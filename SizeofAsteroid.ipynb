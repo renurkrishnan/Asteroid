{
 "cells": [
  {
   "cell_type": "code",
   "execution_count": 1,
   "metadata": {},
   "outputs": [],
   "source": [
    "import pandas as pd\n",
    "import numpy as np"
   ]
  },
  {
   "cell_type": "code",
   "execution_count": 2,
   "metadata": {},
   "outputs": [],
   "source": [
    "pd.set_option('display.max_columns', 1000)\n",
    "pd.set_option('display.width', 2000)"
   ]
  },
  {
   "cell_type": "code",
   "execution_count": 3,
   "metadata": {},
   "outputs": [],
   "source": [
    "# Osculating Elements - https://asteroid.lowell.edu/main/astorb\n",
    "\n",
    "#Specify the path of the file to be read.\n",
    "path = \"astorb.dat\"\n",
    "\n",
    "#Set the max columns, so that all the fields are displayed in the screen\n",
    "pd.set_option('display.max_columns', 1000)\n",
    "pd.set_option('display.width', 2000)\n",
    "\n",
    "#Specify the start and end position of each field\n",
    "colspec = [(0,6),(7,25),(26,42),(42,47),(49,53),(55,58),(59,64),(65,69),(70,74),(75,78),(79,82),(83,86),(87,90),(91,94),(95,100),(101,105),(106,114),(115,125),(126,136),(137,147),(148,157),(158,168),(169,181),(182,190),(191,198),(199,207),(208,216),(217,224),(225,233),(234,241),(242,250),(251,258),(259,267)]\n",
    "\n",
    "#No column names were provided in the file, hence specify it here\n",
    "header = ['Asteroid Number', 'Name', 'Orbit Computer','Abs mag(H)', 'Slope parm(G)','Color index','IRAS dia(km)','IRAS Tax class','6IntC1','6IntC2','6IntC3','6IntC4','6IntC5','6IntC6','OrbitalArc','ObservationCount','Epoch','Mean Anom','Arg Perih','Longitude','Inclination','Eccentricity','SMA','Orb Comp Date','Abs CEU','CEU Rate','CEU Date','NextPEU','NextPEU Date','GreatPEU','GreatPEU Date','NextGreatPEU','NextGreatPEU Date']\n",
    "\n",
    "#Specify the data types of the columns to be read. The data types are specified in the link https://asteroid.lowell.edu/main/astorb\n",
    "type = {'Asteroid number':np.str,'Name':np.str,'Orbit computer':np.str,'Abs mag(H)':np.str,'Slope parm(G)':np.float,'Color index':np.str,'IRAS dia(km)':np.str,'IRAS Tax class':np.str,'6IntC1':np.int,'6IntC2':np.int,'6IntC3':np.int,'6IntC4':np.int,'6IntC5':np.int,'6IntC6':np.int,'OrbitalArc':np.int,'ObservationCount':np.int,'Epoch':np.int,'Mean Anom':np.float,'Arg Perih':np.float,'Longitude':np.float,'Inclination':np.float,'Eccentricity':np.float,'SMA':np.float,'Orb Comp Date':np.int,'Abs CEU':np.float,'CEU Rate':np.float,'CEU Date':np.int,'NextPEU':np.float,'NextPEU Date':np.int,'GreatPEU':np.float,'GreatPEU Date':np.int,'NextGreatPEU':np.float,'NextGreatPEU Date':np.int}\n",
    "\n",
    "#Read files to a dataframe df.\n",
    "df = pd.read_fwf(path,colspecs = colspec, header = None, names =header, dtype = type )\n"
   ]
  },
  {
   "cell_type": "code",
   "execution_count": 4,
   "metadata": {},
   "outputs": [
    {
     "name": "stdout",
     "output_type": "stream",
     "text": [
      "792041\n"
     ]
    }
   ],
   "source": [
    "print(len(df))"
   ]
  },
  {
   "cell_type": "code",
   "execution_count": 5,
   "metadata": {},
   "outputs": [],
   "source": [
    "df1 = df[['Asteroid Number','Name','Abs mag(H)','SMA']]"
   ]
  },
  {
   "cell_type": "code",
   "execution_count": 6,
   "metadata": {},
   "outputs": [
    {
     "name": "stdout",
     "output_type": "stream",
     "text": [
      "        Asteroid Number        Name Abs mag(H)       SMA\n",
      "0                   1.0       Ceres       3.34  2.768161\n",
      "1                   2.0      Pallas       4.13  2.772360\n",
      "2                   3.0        Juno       5.33  2.669353\n",
      "3                   4.0       Vesta       3.20  2.361269\n",
      "4                   5.0     Astraea       6.85  2.574077\n",
      "5                   6.0        Hebe       5.71  2.425370\n",
      "6                   7.0        Iris       5.51  2.385262\n",
      "7                   8.0       Flora       6.49  2.201335\n",
      "8                   9.0       Metis       6.28  2.385610\n",
      "9                  10.0      Hygiea       5.43  3.141201\n",
      "10                 11.0  Parthenope       6.55  2.452557\n",
      "11                 12.0    Victoria       7.24  2.334363\n",
      "12                 13.0      Egeria       6.74  2.576313\n",
      "13                 14.0       Irene       6.30  2.585392\n",
      "14                 15.0     Eunomia       5.28  2.644826\n",
      "15                 16.0      Psyche       5.90  2.924857\n",
      "16                 17.0      Thetis       7.76  2.470328\n",
      "17                 18.0   Melpomene       6.51  2.296693\n",
      "18                 19.0     Fortuna       7.13  2.442108\n",
      "19                 20.0    Massalia       6.50  2.409146\n",
      "20                 21.0     Lutetia       7.35  2.435359\n",
      "21                 22.0    Kalliope       6.45  2.914342\n",
      "22                 23.0      Thalia       6.95  2.625781\n",
      "23                 24.0      Themis       7.08  3.136643\n",
      "24                 25.0     Phocaea       7.83  2.400349\n",
      "25                 26.0  Proserpina        7.4  2.654150\n",
      "26                 27.0     Euterpe        7.0  2.346540\n",
      "27                 28.0     Bellona       7.09  2.775499\n",
      "28                 29.0  Amphitrite       5.85  2.554105\n",
      "29                 30.0      Urania       7.57  2.365492\n",
      "...                 ...         ...        ...       ...\n",
      "792011              NaN    2019 CP5       26.5  1.707873\n",
      "792012              NaN    2019 CQ5       27.5  0.881702\n",
      "792013              NaN    2019 CR5       18.3  2.409979\n",
      "792014              NaN    2019 CS5       25.9  1.526189\n",
      "792015              NaN    2019 CT5       20.1  1.939613\n",
      "792016              NaN    2019 CU5       16.8  1.907115\n",
      "792017              NaN    2019 CV5       22.9  2.625434\n",
      "792018              NaN    2019 CW5       21.0  2.726319\n",
      "792019              NaN    2019 CX5       22.5  1.464852\n",
      "792020              NaN    2019 CY5       26.1  1.987227\n",
      "792021              NaN     2019 DA       23.3  0.929013\n",
      "792022              NaN    2181 P-L      15.65  2.986283\n",
      "792023              NaN    4198 P-L      17.89  2.239094\n",
      "792024              NaN    4532 P-L      17.46  2.303813\n",
      "792025              NaN    4717 P-L      16.24  2.953956\n",
      "792026              NaN    4847 P-L      16.90  2.690996\n",
      "792027              NaN    6013 P-L      17.14  2.279498\n",
      "792028              NaN    6331 P-L      18.49  2.335000\n",
      "792029              NaN    6344 P-L      20.39  2.811488\n",
      "792030              NaN    6879 P-L      16.78  3.053006\n",
      "792031              NaN    1077 T-2      16.98  2.625949\n",
      "792032              NaN    1168 T-2      17.51  2.644668\n",
      "792033              NaN    2060 T-2      18.04  2.383005\n",
      "792034              NaN    2620 T-3      15.98  3.246900\n",
      "792035              NaN    2678 T-3      18.05  2.262988\n",
      "792036              NaN    3411 T-3      16.13  2.670003\n",
      "792037              NaN    3521 T-3      18.20  2.431436\n",
      "792038              NaN    4571 T-3      17.41  2.544811\n",
      "792039              NaN    4658 T-3      18.22  2.130099\n",
      "792040              NaN    5154 T-3      17.16  3.059159\n",
      "\n",
      "[792041 rows x 4 columns]\n"
     ]
    }
   ],
   "source": [
    "print (df1)"
   ]
  },
  {
   "cell_type": "code",
   "execution_count": 7,
   "metadata": {},
   "outputs": [],
   "source": [
    "import pandas as pd\n",
    "\n",
    "\n",
    "LCSummary = pd.read_csv('lc_summary.csv',skiprows = [0,1,2,3,4,5,6,7,8,9,10,11,12,13,14,15,17,18,19,20,21])\n",
    " \n"
   ]
  },
  {
   "cell_type": "code",
   "execution_count": 8,
   "metadata": {},
   "outputs": [
    {
     "name": "stdout",
     "output_type": "stream",
     "text": [
      "       Number        Name Family    Diam Class\n",
      "0           1       Ceres   MB-O  973.89     C\n",
      "1           2      Pallas   MB-O  512.59     B\n",
      "2           3        Juno   MB-M  252.00     S\n",
      "3           4       Vesta      V  468.30     V\n",
      "4           5     Astraea   MB-I  115.00     S\n",
      "5           6        Hebe   MB-I  185.18     S\n",
      "6           7        Iris   MB-I  199.83     S\n",
      "7           8       Flora   FLOR  138.81     S\n",
      "8           9       Metis      V  199.96     S\n",
      "9          10      Hygiea   MB-O  351.00     C\n",
      "10         11  Parthenope   MB-I  160.09     S\n",
      "11         12    Victoria   MB-I  127.34     L\n",
      "12         13      Egeria   MB-I  207.64     C\n",
      "13         14       Irene   MB-I  152.29     S\n",
      "14         15     Eunomia    EUN  255.33     S\n",
      "15         16      Psyche   MB-O  225.00     X\n",
      "16         17      Thetis      V   93.34     S\n",
      "17         18   Melpomene   MB-I  140.57     S\n",
      "18         19     Fortuna   NYSA  223.19     C\n",
      "19         20    Massalia   MB-I  145.50     S\n",
      "20         21     Lutetia   NYSA  100.00     X\n",
      "21         22    Kalliope   MB-O  143.00     X\n",
      "22         23      Thalia   MB-M  107.53     S\n",
      "23         24      Themis    THM  202.25     B\n",
      "24         25     Phocaea    PHO   75.13     S\n",
      "25         26  Proserpina   MB-M   95.15     S\n",
      "26         27     Euterpe   FLOR  118.00     S\n",
      "27         28     Bellona   MB-O   97.00     S\n",
      "28         29  Amphitrite   MB-I  212.22     S\n",
      "29         30      Urania   MB-I   99.01     S\n",
      "...       ...         ...    ...     ...   ...\n",
      "19910      -9      Derm7l   MB-O    1.30     C\n",
      "19911      -9      Derm7o   MB-I    0.15     S\n",
      "19912      -9      Derm7p   MB-I    0.18     C\n",
      "19913      -9      Derm7q   MB-I    0.16     S\n",
      "19914      -9      Derm8b   MB-I    0.22     S\n",
      "19915      -9      Derm8c   MB-I    0.18     S\n",
      "19916      -9      Derm8d   MB-I    0.52     S\n",
      "19917      -9      Derm8e   MB-I    0.09     S\n",
      "19918      -9      Derm8h   MB-I    0.29     S\n",
      "19919      -9      Derm9a   MB-I    0.17     S\n",
      "19920      -9      Derm9d   MB-I    0.21     S\n",
      "19921      -9      Derm9e   MB-O    1.07     C\n",
      "19922      -9      Derm9f   MB-I    0.23     S\n",
      "19923      -9      Derm9g   MB-O    1.06     C\n",
      "19924      -9      Derm9h   MB-I    0.22     S\n",
      "19925      -9      Derm9J   MB-I    0.47     S\n",
      "19926      -9     Hi'iaka     PS  300.00     C\n",
      "19927      -9     Himalia     PS  132.12     -\n",
      "19928      -9      P0007F      -    1.50     -\n",
      "19929      -9      P00095      -    1.50     -\n",
      "19930      -9      P000DV      -   -9.99     -\n",
      "19931      -9      P000K7      -   -9.99     -\n",
      "19932      -9      P000TQ      -   -9.99     -\n",
      "19933      -9      P000ZE      -   -9.99     -\n",
      "19934      -9      P000ZL      -    1.50     -\n",
      "19935      -9      P0012V      -   -9.99     -\n",
      "19936      -9      P001GV      -   -9.99     -\n",
      "19937      -9      P002I1      -   -9.99     -\n",
      "19938      -9      P002I6      -   -9.99     -\n",
      "19939      -9      P002RZ      -   -9.99     -\n",
      "\n",
      "[19940 rows x 5 columns]\n"
     ]
    }
   ],
   "source": [
    "print(LCSummary[['Number','Name','Family','Diam','Class']])"
   ]
  },
  {
   "cell_type": "code",
   "execution_count": 9,
   "metadata": {},
   "outputs": [
    {
     "data": {
      "text/plain": [
       "Number        False\n",
       "Name          False\n",
       "Desig         False\n",
       "Family        False\n",
       "CSource       False\n",
       "Class         False\n",
       "DiamSource    False\n",
       "DiamFlag      False\n",
       "Diam          False\n",
       "HSource       False\n",
       "H             False\n",
       "HBand         False\n",
       "GSource       False\n",
       "G             False\n",
       "AlbSource     False\n",
       "AlbFlag       False\n",
       "Albedo        False\n",
       "PFlag         False\n",
       "Period        False\n",
       "PerDesc       False\n",
       "AmpFlag       False\n",
       "AmpMin        False\n",
       "AmpMax        False\n",
       "U             False\n",
       "Notes          True\n",
       "Pole          False\n",
       "IsBinary      False\n",
       "WideField     False\n",
       "SparseData    False\n",
       "NotesEx       False\n",
       "Private       False\n",
       "dtype: bool"
      ]
     },
     "execution_count": 9,
     "metadata": {},
     "output_type": "execute_result"
    }
   ],
   "source": [
    "LCSummary.isnull().any()"
   ]
  },
  {
   "cell_type": "code",
   "execution_count": 10,
   "metadata": {},
   "outputs": [
    {
     "data": {
      "text/plain": [
       "19940"
      ]
     },
     "execution_count": 10,
     "metadata": {},
     "output_type": "execute_result"
    }
   ],
   "source": [
    "# How many rows in the dataset?\n",
    "LCSummary['Number'].count()\n"
   ]
  },
  {
   "cell_type": "code",
   "execution_count": 11,
   "metadata": {},
   "outputs": [
    {
     "data": {
      "text/html": [
       "<div>\n",
       "<style scoped>\n",
       "    .dataframe tbody tr th:only-of-type {\n",
       "        vertical-align: middle;\n",
       "    }\n",
       "\n",
       "    .dataframe tbody tr th {\n",
       "        vertical-align: top;\n",
       "    }\n",
       "\n",
       "    .dataframe thead th {\n",
       "        text-align: right;\n",
       "    }\n",
       "</style>\n",
       "<table border=\"1\" class=\"dataframe\">\n",
       "  <thead>\n",
       "    <tr style=\"text-align: right;\">\n",
       "      <th></th>\n",
       "      <th>Number</th>\n",
       "      <th>Name</th>\n",
       "      <th>Desig</th>\n",
       "      <th>Family</th>\n",
       "      <th>CSource</th>\n",
       "      <th>Class</th>\n",
       "      <th>DiamSource</th>\n",
       "      <th>DiamFlag</th>\n",
       "      <th>Diam</th>\n",
       "      <th>HSource</th>\n",
       "      <th>H</th>\n",
       "      <th>HBand</th>\n",
       "      <th>GSource</th>\n",
       "      <th>G</th>\n",
       "      <th>AlbSource</th>\n",
       "      <th>AlbFlag</th>\n",
       "      <th>Albedo</th>\n",
       "      <th>PFlag</th>\n",
       "      <th>Period</th>\n",
       "      <th>PerDesc</th>\n",
       "      <th>AmpFlag</th>\n",
       "      <th>AmpMin</th>\n",
       "      <th>AmpMax</th>\n",
       "      <th>U</th>\n",
       "      <th>Notes</th>\n",
       "      <th>Pole</th>\n",
       "      <th>IsBinary</th>\n",
       "      <th>WideField</th>\n",
       "      <th>SparseData</th>\n",
       "      <th>NotesEx</th>\n",
       "      <th>Private</th>\n",
       "    </tr>\n",
       "  </thead>\n",
       "  <tbody>\n",
       "    <tr>\n",
       "      <th>0</th>\n",
       "      <td>1</td>\n",
       "      <td>Ceres</td>\n",
       "      <td>-</td>\n",
       "      <td>MB-O</td>\n",
       "      <td>S</td>\n",
       "      <td>C</td>\n",
       "      <td>L</td>\n",
       "      <td>-</td>\n",
       "      <td>973.89</td>\n",
       "      <td>M</td>\n",
       "      <td>3.34</td>\n",
       "      <td>V</td>\n",
       "      <td>M</td>\n",
       "      <td>0.12</td>\n",
       "      <td>D</td>\n",
       "      <td>-</td>\n",
       "      <td>0.0857</td>\n",
       "      <td>S</td>\n",
       "      <td>9.07417</td>\n",
       "      <td>-</td>\n",
       "      <td>-</td>\n",
       "      <td>0.03</td>\n",
       "      <td>0.06</td>\n",
       "      <td>3</td>\n",
       "      <td>-</td>\n",
       "      <td>-</td>\n",
       "      <td>Y</td>\n",
       "      <td>N</td>\n",
       "      <td>N</td>\n",
       "      <td>N</td>\n",
       "      <td>N</td>\n",
       "    </tr>\n",
       "  </tbody>\n",
       "</table>\n",
       "</div>"
      ],
      "text/plain": [
       "   Number   Name Desig Family CSource Class DiamSource DiamFlag    Diam HSource     H HBand GSource     G AlbSource AlbFlag  Albedo PFlag   Period PerDesc AmpFlag  AmpMin  AmpMax  U Notes Pole IsBinary WideField SparseData NotesEx Private\n",
       "0       1  Ceres     -   MB-O       S     C          L        -  973.89       M  3.34     V       M  0.12         D       -  0.0857     S  9.07417       -       -    0.03    0.06  3     -    -        Y         N          N       N       N"
      ]
     },
     "execution_count": 11,
     "metadata": {},
     "output_type": "execute_result"
    }
   ],
   "source": [
    "LCSummary.loc[LCSummary['Name']=='Ceres']"
   ]
  },
  {
   "cell_type": "code",
   "execution_count": 12,
   "metadata": {},
   "outputs": [
    {
     "data": {
      "text/plain": [
       "array(['MB-O', 'MB-M', 'V', 'MB-I', 'FLOR', 'EUN', 'NYSA', 'THM', 'PHO',\n",
       "       'MC', 'HIL', 'KOR', 'ERI', 'EOS', 'BAP', 'NEA', 'H', 'TR-J', 'KAR',\n",
       "       'CEN', 'TR-M', 'TNO', 'HYPA', 'PS', '-'], dtype=object)"
      ]
     },
     "execution_count": 12,
     "metadata": {},
     "output_type": "execute_result"
    }
   ],
   "source": [
    "#List all the collisional family types.\n",
    "LCSummary.Family.unique()"
   ]
  },
  {
   "cell_type": "markdown",
   "metadata": {},
   "source": [
    "**TNO families are not considered to be asteroids, hence we can eliminate it(based on wikipedia)**"
   ]
  },
  {
   "cell_type": "code",
   "execution_count": 13,
   "metadata": {},
   "outputs": [],
   "source": [
    "tnofam= LCSummary[LCSummary['Family']=='TNO']\n",
    "LCSummary = LCSummary.drop(tnofam.index, axis=0)"
   ]
  },
  {
   "cell_type": "code",
   "execution_count": 14,
   "metadata": {},
   "outputs": [
    {
     "name": "stdout",
     "output_type": "stream",
     "text": [
      "               Name  Albedo  Diam      H\n",
      "19025  1I/'Oumuamua   -9.99 -9.99  22.08\n",
      "19930        P000DV   -9.99 -9.99  -9.99\n",
      "19931        P000K7   -9.99 -9.99  -9.99\n",
      "19932        P000TQ   -9.99 -9.99  -9.99\n",
      "19933        P000ZE   -9.99 -9.99  -9.99\n",
      "19935        P0012V   -9.99 -9.99  -9.99\n",
      "19936        P001GV   -9.99 -9.99  -9.99\n",
      "19937        P002I1   -9.99 -9.99  -9.99\n",
      "19938        P002I6   -9.99 -9.99  -9.99\n",
      "19939        P002RZ   -9.99 -9.99  -9.99\n"
     ]
    }
   ],
   "source": [
    "print(LCSummary[LCSummary['Diam']<=0][['Name','Albedo','Diam','H']])"
   ]
  },
  {
   "cell_type": "code",
   "execution_count": 15,
   "metadata": {},
   "outputs": [],
   "source": [
    "# As the rows with negative diameter do not have valid values for Albedo or H, we cannot calculate the diameter. Hence eliminate rows with invalid values for H,Albedo and Diam\n",
    "invdiam= LCSummary[LCSummary['Albedo']<0]\n",
    "LCSummary = LCSummary.drop(invdiam.index, axis=0)"
   ]
  },
  {
   "cell_type": "code",
   "execution_count": 16,
   "metadata": {},
   "outputs": [],
   "source": [
    "Sort_size = LCSummary.sort_values(by=['Diam'], ascending=False)"
   ]
  },
  {
   "cell_type": "code",
   "execution_count": 17,
   "metadata": {},
   "outputs": [
    {
     "name": "stdout",
     "output_type": "stream",
     "text": [
      "       Number        Name Family    Diam\n",
      "0           1       Ceres   MB-O  973.89\n",
      "1           2      Pallas   MB-O  512.59\n",
      "3           4       Vesta      V  468.30\n",
      "9          10      Hygiea   MB-O  351.00\n",
      "703       704  Interamnia   MB-O  316.62\n",
      "510       511      Davida   MB-O  300.00\n",
      "19926      -9     Hi'iaka     PS  300.00\n",
      "51         52      Europa   MB-O  293.00\n",
      "30         31  Euphrosyne   MB-O  279.82\n",
      "1938     2060      Chiron    CEN  271.37\n"
     ]
    }
   ],
   "source": [
    "print(Sort_size.head(10)[['Number','Name','Family','Diam']])"
   ]
  },
  {
   "cell_type": "markdown",
   "metadata": {},
   "source": [
    "Per above, the largest asteroid in size is Ceres followed by Pallas."
   ]
  },
  {
   "cell_type": "code",
   "execution_count": 18,
   "metadata": {},
   "outputs": [
    {
     "name": "stdout",
     "output_type": "stream",
     "text": [
      "       Number        Name Family   Diam\n",
      "19352      -9    2009 TM8    NEA  0.006\n",
      "19465      -9   2012 KT42    NEA  0.006\n",
      "19416      -9   2010 VO21    NEA  0.005\n",
      "19740      -9  2015 VY105    NEA  0.005\n",
      "19410      -9   2010 TD54    NEA  0.005\n",
      "19297      -9    2008 TC3    NEA  0.004\n",
      "19287      -9   2008 JL24    NEA  0.004\n",
      "19420      -9     2010 WA    NEA  0.003\n",
      "19737      -9   2015 TC25    NEA  0.003\n",
      "19202      -9  2006 RH120    NEA  0.003\n"
     ]
    }
   ],
   "source": [
    "print(Sort_size.tail(10)[['Number','Name','Family','Diam']])"
   ]
  },
  {
   "cell_type": "markdown",
   "metadata": {},
   "source": [
    "Per above the smallest asteroid is 2006 RH120"
   ]
  },
  {
   "cell_type": "code",
   "execution_count": 19,
   "metadata": {},
   "outputs": [
    {
     "data": {
      "text/plain": [
       "array(['-', 'A', 'AS', 'B', 'BCU', 'BU', 'C', 'C:', 'CB', 'CB:', 'CBU',\n",
       "       'CBU:', 'CD:', 'CF', 'CFB:', 'CFU:', 'CFXU', 'CGSU', 'CGTP:',\n",
       "       'CGU', 'CP', 'CP:', 'CPF', 'CSGU', 'CSU', 'CTGU:', 'CU', 'CX',\n",
       "       'CX:', 'CXF', 'Cgh', 'D', 'DCX', 'DCX:', 'DP', 'DSU:', 'DT', 'DTU',\n",
       "       'DTU:', 'DU', 'DU:', 'DX', 'DX:', 'DXCU', 'E', 'ES', 'EU', 'F',\n",
       "       'F:', 'FC', 'FC:', 'FCU', 'FCX', 'FCX:', 'FU', 'FX:', 'FXU:', 'G',\n",
       "       'G:', 'GC', 'GS:', 'K', 'L', 'M', 'MU', 'MU:', 'O', 'P', 'P:',\n",
       "       'PC', 'PD', 'PDC', 'PF', 'Q', 'QRS', 'R', 'S', 'SC', 'SCTU', 'SD',\n",
       "       'SDU::', 'SG', 'SMU', 'SQ', 'ST', 'SU', 'Sq', 'T', 'TCG:', 'TD',\n",
       "       'TDG', 'U', 'V', 'X', 'XB', 'XC', 'XCU', 'XD', 'XD:', 'XDC', 'XF',\n",
       "       'XFC', 'XFU', 'XSC', 'XU', 'Xe', 'Xk', 'Xn'], dtype=object)"
      ]
     },
     "execution_count": 19,
     "metadata": {},
     "output_type": "execute_result"
    }
   ],
   "source": [
    "# Now lets group the asteroids based on the classes they belongs.\n",
    "#Lets find out the unique classes first\n",
    "Aclass = LCSummary.Class.unique()\n",
    "np.sort(Aclass)"
   ]
  },
  {
   "cell_type": "code",
   "execution_count": 20,
   "metadata": {},
   "outputs": [],
   "source": [
    "LCSummary['Class']=LCSummary['Class'].replace(to_replace={'C:':'C','CB:':'CB','CBU:':'CBU','CP:':'CP','CX:':'CX','DCX:':'DCX','DTU:':'DTU','DU:':'DU','DX:':'DX','F:':'F','FC:':'FC','FCX:':'FCX','G:':'G','MU:':'MU','P:':'P','Sq':'SQ','XD:':'XD','CFU:':'CFU','Xk':'XK','DSU:':'DSU','Cgh':'CGH','FX:':'FX','GS:':'GS'},regex = True)"
   ]
  },
  {
   "cell_type": "code",
   "execution_count": 21,
   "metadata": {},
   "outputs": [
    {
     "data": {
      "text/plain": [
       "array(['C', 'B', 'S', 'V', 'L', 'X', 'XC', 'TDG', 'K', 'T', 'M', 'XFC',\n",
       "       'DCX', 'BU', 'F', 'BCU', 'A', 'P', 'CX', 'D', 'FC', 'PC', 'SCTU',\n",
       "       'E', 'CXF', 'CP', 'CSGU', 'R', 'DP', 'DT', 'DX', 'Xe', 'TD', 'CSU',\n",
       "       'CU', 'CB', 'FCX', 'CPF', 'PD', 'CGU', 'DU', 'XCU', 'CFB:', 'XDC',\n",
       "       'SD', 'G', 'CD:', 'ST', 'CF', 'CGSU', 'FX', 'SU', 'SC', 'MU',\n",
       "       'DXCU', 'XFU', 'GS', 'CBU', 'CTGU:', 'XF', 'XB', 'DTU', 'FU',\n",
       "       'FXU:', 'XD', 'PF', 'CFU', 'XSC', 'XK', 'CGTP', 'FCU', 'PDC', 'GC',\n",
       "       'XU', 'AS', 'Q', 'SMU', 'TCG', 'DSU', 'CFXU', 'SG', 'SQ', 'EU',\n",
       "       'SDU:', 'QRS', 'O', 'U', 'Xn', 'ES', 'CGH', '-'], dtype=object)"
      ]
     },
     "execution_count": 21,
     "metadata": {},
     "output_type": "execute_result"
    }
   ],
   "source": [
    "LCSummary.Class.unique()"
   ]
  },
  {
   "cell_type": "code",
   "execution_count": 22,
   "metadata": {},
   "outputs": [
    {
     "name": "stdout",
     "output_type": "stream",
     "text": [
      "Class\n",
      "-            4\n",
      "A           12\n",
      "AS           1\n",
      "B           52\n",
      "BCU          2\n",
      "BU           2\n",
      "C         6439\n",
      "CB           3\n",
      "CBU          2\n",
      "CD:          2\n",
      "CF           1\n",
      "CFB:         1\n",
      "CFU          1\n",
      "CFXU         1\n",
      "CGH          1\n",
      "CGSU         1\n",
      "CGTP         1\n",
      "CGU          1\n",
      "CP           4\n",
      "CPF          2\n",
      "CSGU         1\n",
      "CSU          3\n",
      "CTGU:        1\n",
      "CU           3\n",
      "CX          15\n",
      "CXF          1\n",
      "D           38\n",
      "DCX          3\n",
      "DP           3\n",
      "DSU          1\n",
      "         ...  \n",
      "S        12005\n",
      "SC         203\n",
      "SCTU         1\n",
      "SD           1\n",
      "SDU:         1\n",
      "SG           2\n",
      "SMU          1\n",
      "SQ           2\n",
      "ST           3\n",
      "SU           3\n",
      "T           17\n",
      "TCG          1\n",
      "TD           2\n",
      "TDG          2\n",
      "U            2\n",
      "V           65\n",
      "X          210\n",
      "XB           2\n",
      "XC          10\n",
      "XCU          1\n",
      "XD           2\n",
      "XDC          2\n",
      "XF           1\n",
      "XFC          1\n",
      "XFU          4\n",
      "XK           1\n",
      "XSC          1\n",
      "XU           1\n",
      "Xe           5\n",
      "Xn           1\n",
      "Name: Name, Length: 91, dtype: int64\n"
     ]
    }
   ],
   "source": [
    "sizebyclass = LCSummary.groupby('Class')['Name'].count()\n",
    "print(sizebyclass)"
   ]
  },
  {
   "cell_type": "code",
   "execution_count": 23,
   "metadata": {},
   "outputs": [
    {
     "name": "stdout",
     "output_type": "stream",
     "text": [
      "    Class        Mean\n",
      "67    SMU    0.400000\n",
      "36     ES    1.168692\n",
      "59    QRS    1.480000\n",
      "58      Q    1.838500\n",
      "35      E    2.572110\n",
      "75      U    2.580000\n",
      "72    TCG    2.710000\n",
      "65   SDU:    3.320000\n",
      "62     SC    3.328399\n",
      "90     Xn    4.000000\n",
      "37     EU    4.230000\n",
      "52      O    4.400000\n",
      "61      S    4.991422\n",
      "89     Xe    6.620000\n",
      "66     SG    7.520000\n",
      "14    CGH    7.680000\n",
      "86     XK    7.820000\n",
      "29    DSU    9.630000\n",
      "34   DXCU   10.160000\n",
      "68     SQ   11.930000\n",
      "76      V   12.288446\n",
      "2      AS   14.760000\n",
      "6       C   15.424184\n",
      "20   CSGU   19.030000\n",
      "1       A   19.110000\n",
      "80    XCU   24.500000\n",
      "21    CSU   25.830000\n",
      "51     MU   26.620000\n",
      "22  CTGU:   27.330000\n",
      "78     XB   27.590000\n",
      "..    ...         ...\n",
      "43     FX   58.690000\n",
      "24     CX   58.770000\n",
      "13   CFXU   59.210000\n",
      "73     TD   59.315000\n",
      "7      CB   59.620000\n",
      "9     CD:   61.615000\n",
      "15   CGSU   62.790000\n",
      "4     BCU   66.240000\n",
      "47     GS   66.640000\n",
      "79     XC   67.168000\n",
      "3       B   67.888096\n",
      "74    TDG   72.660000\n",
      "25    CXF   73.380000\n",
      "83     XF   76.140000\n",
      "26      D   76.736579\n",
      "81     XD   77.200000\n",
      "57     PF   78.730000\n",
      "53      P   83.001944\n",
      "56    PDC   83.050000\n",
      "10     CF   88.710000\n",
      "32     DU   89.736667\n",
      "11   CFB:   93.410000\n",
      "27    DCX   97.946667\n",
      "39     FC   99.642500\n",
      "19    CPF  101.885000\n",
      "40    FCU  103.310000\n",
      "46     GC  107.540000\n",
      "18     CP  108.622500\n",
      "23     CU  109.683333\n",
      "28     DP  127.530000\n",
      "\n",
      "[91 rows x 2 columns]\n"
     ]
    }
   ],
   "source": [
    "sizebyclass = LCSummary.groupby('Class')['Diam'].mean().reset_index(name = 'Mean')\n",
    "sizebyclass_a= sizebyclass.sort_values(by=\"Mean\",ascending = 'True')\n",
    "print(sizebyclass_a)"
   ]
  },
  {
   "cell_type": "code",
   "execution_count": 24,
   "metadata": {},
   "outputs": [],
   "source": [
    "import matplotlib\n",
    "import matplotlib.pyplot as plt\n",
    "%matplotlib inline"
   ]
  },
  {
   "cell_type": "markdown",
   "metadata": {},
   "source": [
    "\n",
    "Relation between Rotation period (in hours) and Asteroid diameter(km)"
   ]
  },
  {
   "cell_type": "code",
   "execution_count": 52,
   "metadata": {},
   "outputs": [
    {
     "data": {
      "image/png": "[encoded data removed]",
      "text/plain": [
       "<Figure size 432x288 with 1 Axes>"
      ]
     },
     "metadata": {
      "needs_background": "light"
     },
     "output_type": "display_data"
    },
    {
     "data": {
      "image/png": "[encoded data removed]",
      "text/plain": [
       "<Figure size 432x288 with 1 Axes>"
      ]
     },
     "metadata": {
      "needs_background": "light"
     },
     "output_type": "display_data"
    }
   ],
   "source": [
    "plt.yticks(np.arange(0, 3000, 100))\n",
    "_ = LCSummary.plot.scatter(x='Diam', y='Period')"
   ]
  },
  {
   "cell_type": "code",
   "execution_count": null,
   "metadata": {},
   "outputs": [],
   "source": [
    "As we can see above, rotation period is less for bigger asteroids and vice versa."
   ]
  }
 ],
 "metadata": {
  "kernelspec": {
   "display_name": "Python 3",
   "language": "python",
   "name": "python3"
  },
  "language_info": {
   "codemirror_mode": {
    "name": "ipython",
    "version": 3
   },
   "file_extension": ".py",
   "mimetype": "text/x-python",
   "name": "python",
   "nbconvert_exporter": "python",
   "pygments_lexer": "ipython3",
   "version": "3.7.0"
  }
 },
 "nbformat": 4,
 "nbformat_minor": 2
}
